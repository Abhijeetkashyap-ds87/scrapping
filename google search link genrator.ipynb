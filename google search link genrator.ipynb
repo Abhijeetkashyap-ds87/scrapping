{
 "cells": [
  {
   "cell_type": "code",
   "execution_count": 1,
   "id": "e9417f4b",
   "metadata": {},
   "outputs": [],
   "source": [
    "import requests\n",
    "from bs4 import BeautifulSoup"
   ]
  },
  {
   "cell_type": "code",
   "execution_count": 6,
   "id": "8c8fa684",
   "metadata": {},
   "outputs": [
    {
     "name": "stdout",
     "output_type": "stream",
     "text": [
      "Enter namemartin luther\n"
     ]
    }
   ],
   "source": [
    "name=input(\"Enter name\").replace(\" \",\"+\")\n",
    "link=\"https://www.google.com/search?q=\"+name+\"&sxsrf=ALiCzsbE5ZWrdkAnXyvRHxyDcWqa0VGzug%3A1670506292569&source=hp&ei=NOeRY4mJIMilhwPi5KE4&iflsig=AJiK0e8AAAAAY5H1RFgQzT5XQL-SYPjxiCTRH4m_BMRZ&ved=0ahUKEwiJ86TxkOr7AhXI0mEKHWJyCAcQ4dUDCAg&uact=5&oq=\"+name+\"&gs_lcp=Cgdnd3Mtd2l6EAMyCAguELEDEJECMgUIABCABDIFCAAQkQIyBQgAEIAEMgUIABCRAjIFCAAQgAQyBQgAEIAEMgUIABCRAjIFCAAQgAQyBQgAEIAEOgQIIxAnOhEILhCxAxCDARDHARDRAxCRAjoLCAAQgAQQsQMQgwE6CAgAELEDEIMBOgcILhAKEJECOggIABCABBCxAzoICC4QgAQQsQM6CwguEIAEELEDENQCOgsILhDUAhCxAxCABDoKCAAQgAQQhwIQFDoLCC4QgAQQxwEQrwE6EAguEIAEEIcCELEDENQCEBQ6CwguEIAEELEDEIMBOhEILhCABBCxAxCDARDHARDRAzoHCC4QgAQQCjoKCC4QgAQQ1AIQCjoOCC4QrwEQxwEQsQMQgAQ6DQgAEIAEEIcCELEDEBQ6EAguEIcCENQCELEDEIAEEBQ6CAgAELEDEJECUABY0zVguDxoAXAAeACAAY8HiAH1H5IBCzItMS4xLjMuMS4ymAEAoAEB&sclient=gws-wiz#crs=q:,stick:,cid:\"\n",
    "res=requests.get(link)\n",
    "obj=BeautifulSoup(res.text,\"html.parser\")\n",
    "article=obj.find_all(\"div\")\n",
    "for i in article:\n",
    "    try:\n",
    "        link=i.find(\"a\").get(\"href\")\n",
    "        if ('en.wikipedia.org') in link:\n",
    "            alink=link[7:].split('&')[0]\n",
    "            break\n",
    "    except:\n",
    "        pass\n",
    "   # print(\"---------------\")\n",
    "res2=requests.get(alink)\n",
    "obj2=BeautifulSoup(res2.text,\"html.parser\")\n",
    "p=obj2.find_all(\"p\")\n",
    "# exctrating paragraph\n",
    "article=\" \"\n",
    "for i in p:\n",
    "    para=i.text\n",
    "    for n in range(467):\n",
    "        para=para.replace(\"[\"+str(n)+\"]\",\" \")\n",
    "    #print(para)\n",
    "    article=article+para\n",
    "   # print(\"------------\")\n",
    "# saving in text file\n",
    "with open(name.replace('+',\" \")+\".txt\",\"w\") as fd:\n",
    "    fd.write(article)\n",
    "    \n"
   ]
  },
  {
   "cell_type": "code",
   "execution_count": null,
   "id": "b4fd984e",
   "metadata": {},
   "outputs": [],
   "source": []
  }
 ],
 "metadata": {
  "kernelspec": {
   "display_name": "Python 3 (ipykernel)",
   "language": "python",
   "name": "python3"
  },
  "language_info": {
   "codemirror_mode": {
    "name": "ipython",
    "version": 3
   },
   "file_extension": ".py",
   "mimetype": "text/x-python",
   "name": "python",
   "nbconvert_exporter": "python",
   "pygments_lexer": "ipython3",
   "version": "3.9.13"
  }
 },
 "nbformat": 4,
 "nbformat_minor": 5
}
